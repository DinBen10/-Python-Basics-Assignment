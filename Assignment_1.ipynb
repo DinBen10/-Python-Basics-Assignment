{
 "cells": [
  {
   "cell_type": "markdown",
   "id": "7d28121f-d9da-4f11-bb10-40cd21149209",
   "metadata": {},
   "source": [
    "# Python Basics Variable"
   ]
  },
  {
   "cell_type": "markdown",
   "id": "34239eb4-5ff8-43d9-b0ac-b9b0c54385fb",
   "metadata": {},
   "source": [
    "**1.Declare two variables, `x` and `y`, and assign them integer values.\n",
    "Swap the values of these variables without using any temporary\n",
    "variable.**"
   ]
  },
  {
   "cell_type": "code",
   "execution_count": 1,
   "id": "90b8f39d-3814-4759-8a53-e7c8ee17da45",
   "metadata": {},
   "outputs": [],
   "source": [
    "x=3\n",
    "y=4\n",
    "x,y=y,x\n"
   ]
  },
  {
   "cell_type": "code",
   "execution_count": 2,
   "id": "c2a32470-8f05-405d-b118-fe6e4c54641f",
   "metadata": {},
   "outputs": [
    {
     "name": "stdout",
     "output_type": "stream",
     "text": [
      "After Swapping\n",
      "x = 4\n",
      "y = 3\n"
     ]
    }
   ],
   "source": [
    "print(\"After Swapping\")\n",
    "print(\"x =\",x)\n",
    "print(\"y =\",y)"
   ]
  },
  {
   "cell_type": "markdown",
   "id": "b6ef351e-59ad-4f62-ac6f-337418e7b74d",
   "metadata": {},
   "source": [
    "**2.Create a program that calculates the area of a rectangle. Take the\n",
    "length and width as inputs from the user and store them in variables.\n",
    "Calculate and display the area.**"
   ]
  },
  {
   "cell_type": "code",
   "execution_count": 3,
   "id": "58e0ed58-9062-430a-a485-cd25b491dd32",
   "metadata": {},
   "outputs": [
    {
     "name": "stdin",
     "output_type": "stream",
     "text": [
      "Enter Length  22\n",
      "Enter width  7\n"
     ]
    },
    {
     "name": "stdout",
     "output_type": "stream",
     "text": [
      "Area of rectangle is  154.0\n"
     ]
    }
   ],
   "source": [
    "l=float(input(\"Enter Length \"))\n",
    "w=float(input(\"Enter width \"))\n",
    "a=l*w\n",
    "print(\"Area of rectangle is \",round(a,2))"
   ]
  },
  {
   "cell_type": "markdown",
   "id": "d22dc713-a23a-4546-97f9-c52fd9519575",
   "metadata": {},
   "source": [
    "**3.Write a Python program that converts temperature from Celsius to\n",
    "Fahrenheit. Take the temperature in Celsius as input, store it in a\n",
    "variable, convert it to Fahrenheit, and display the result.**"
   ]
  },
  {
   "cell_type": "code",
   "execution_count": 4,
   "id": "55e81f78-dac5-4915-bf2e-35db6908d325",
   "metadata": {},
   "outputs": [
    {
     "name": "stdin",
     "output_type": "stream",
     "text": [
      "Enter temperature in celsius: 109\n"
     ]
    },
    {
     "name": "stdout",
     "output_type": "stream",
     "text": [
      "Temperature in Fahrenheit is  228.2\n"
     ]
    }
   ],
   "source": [
    "celsius=float(input(\"Enter temperature in celsius:\"))\n",
    "Fahrenheit=(celsius*9/5)+32\n",
    "print(\"Temperature in Fahrenheit is \",Fahrenheit)"
   ]
  },
  {
   "cell_type": "markdown",
   "id": "3e628603-1261-4168-ba87-b8b2bed6b3bf",
   "metadata": {},
   "source": [
    "# String Based Questions"
   ]
  },
  {
   "cell_type": "markdown",
   "id": "1e92e3ea-d17b-4fdb-9272-a79a43f0b2f4",
   "metadata": {},
   "source": [
    "**1. Write a Python program that takes a string as input and prints the\n",
    "length of the string**"
   ]
  },
  {
   "cell_type": "code",
   "execution_count": 7,
   "id": "610b3c96-c930-49d5-b662-903a26a170ce",
   "metadata": {},
   "outputs": [
    {
     "name": "stdin",
     "output_type": "stream",
     "text": [
      "Enter string: Dinesh Ramesh Bendugade\n"
     ]
    },
    {
     "name": "stdout",
     "output_type": "stream",
     "text": [
      "Length of string is  23\n"
     ]
    }
   ],
   "source": [
    "a=input(\"Enter string:\")\n",
    "print(\"Length of string is \",len(a))"
   ]
  },
  {
   "cell_type": "markdown",
   "id": "3e40cc69-2dcc-44fe-a904-cc841f40dd61",
   "metadata": {},
   "source": [
    "**2. Create a program that takes a sentence from the user and counts the\n",
    "number of vowels (a, e, i, o, u) in the string.**\n"
   ]
  },
  {
   "cell_type": "code",
   "execution_count": 9,
   "id": "d516365f-9cbe-4592-bfcd-67dc532d5a05",
   "metadata": {},
   "outputs": [
    {
     "name": "stdin",
     "output_type": "stream",
     "text": [
      "Enter any sentence: dinesh bendugade\n"
     ]
    },
    {
     "name": "stdout",
     "output_type": "stream",
     "text": [
      "Number of vowel count in sentance is  6\n"
     ]
    }
   ],
   "source": [
    "# Take input from user\n",
    "sentence=input(\"Enter any sentence:\")\n",
    "# lower sentance to identify vowels\n",
    "sentence=sentence.lower()\n",
    "# initialized a veriable to count vowels\n",
    "vowel_count=0\n",
    "# define veriable\n",
    "vowel=\"aeiou\"\n",
    "#use for loop with if condition to count vowels\n",
    "for char in sentence:\n",
    "    if char in vowel:\n",
    "        vowel_count=vowel_count+1\n",
    "print(\"Number of vowel count in sentance is \",vowel_count)\n",
    "\n",
    "    "
   ]
  },
  {
   "cell_type": "markdown",
   "id": "141c5f54-c4cd-4ded-a6b4-8e86f747c76c",
   "metadata": {},
   "source": [
    "**3.Given a string, reverse the order of characters using string slicing and\n",
    "print the reversed string.**\n"
   ]
  },
  {
   "cell_type": "code",
   "execution_count": 11,
   "id": "fcb6252b-78ea-4578-b1ec-95cd87b3610c",
   "metadata": {},
   "outputs": [
    {
     "name": "stdin",
     "output_type": "stream",
     "text": [
      "Enter a characters  Dinesh Ramesh Bendugade\n"
     ]
    },
    {
     "name": "stdout",
     "output_type": "stream",
     "text": [
      "Reversed string is: edagudneB hsemaR hseniD\n"
     ]
    }
   ],
   "source": [
    "char=input(\"Enter a characters \")\n",
    "rev_char=char[::-1]\n",
    "print(\"Reversed string is:\",rev_char)\n"
   ]
  },
  {
   "cell_type": "markdown",
   "id": "bf422b2a-857d-4e8a-be13-d25823047517",
   "metadata": {},
   "source": [
    "**4. Write a program that takes a string as input and checks if it is a\n",
    "palindrome (reads the same forwards and backwards).**"
   ]
  },
  {
   "cell_type": "code",
   "execution_count": 17,
   "id": "f6b21668-3736-4daa-9030-81f5658eb04d",
   "metadata": {},
   "outputs": [
    {
     "name": "stdin",
     "output_type": "stream",
     "text": [
      "Enter string: rar\n"
     ]
    },
    {
     "name": "stdout",
     "output_type": "stream",
     "text": [
      "rar  is palindrome.\n"
     ]
    }
   ],
   "source": [
    "in_str=input(\"Enter string:\")\n",
    "cleaned_str=in_str.replace(\" \",\"\").lower()\n",
    "if cleaned_str==cleaned_str[::-1]:\n",
    "    print(in_str,\" is palindrome.\")\n",
    "else:\n",
    "    print(in_str,\" is not palindrome.\")"
   ]
  },
  {
   "cell_type": "markdown",
   "id": "6cee1da3-b1db-4e02-a877-18cf4384e6ea",
   "metadata": {},
   "source": [
    "**5. Create a program that takes a string as input and removes all the\n",
    "spaces from it. Print the modified string without spaces.**"
   ]
  },
  {
   "cell_type": "code",
   "execution_count": 20,
   "id": "4ec31d89-9b03-422a-9f87-e8439db344c3",
   "metadata": {},
   "outputs": [
    {
     "name": "stdin",
     "output_type": "stream",
     "text": [
      "Enter string: Dinesh Bendugade\n"
     ]
    },
    {
     "name": "stdout",
     "output_type": "stream",
     "text": [
      "Modified string without: DineshBendugade\n"
     ]
    }
   ],
   "source": [
    "in_str=input(\"Enter string:\")\n",
    "cleaned_str=in_str.replace(\" \",\"\")\n",
    "print(\"Modified string without:\",cleaned_str)"
   ]
  },
  {
   "cell_type": "code",
   "execution_count": null,
   "id": "571c7583-775c-436e-92d5-5cec5a119c0e",
   "metadata": {},
   "outputs": [],
   "source": []
  }
 ],
 "metadata": {
  "kernelspec": {
   "display_name": "Python 3 (ipykernel)",
   "language": "python",
   "name": "python3"
  },
  "language_info": {
   "codemirror_mode": {
    "name": "ipython",
    "version": 3
   },
   "file_extension": ".py",
   "mimetype": "text/x-python",
   "name": "python",
   "nbconvert_exporter": "python",
   "pygments_lexer": "ipython3",
   "version": "3.10.8"
  }
 },
 "nbformat": 4,
 "nbformat_minor": 5
}
